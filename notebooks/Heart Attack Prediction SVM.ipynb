{
  "nbformat": 4,
  "nbformat_minor": 0,
  "metadata": {
    "colab": {
      "name": "Heart Attack Prediction SVM",
      "version": "0.3.2",
      "provenance": [],
      "collapsed_sections": []
    },
    "kernelspec": {
      "name": "python3",
      "display_name": "Python 3"
    }
  },
  "cells": [
    {
      "cell_type": "markdown",
      "metadata": {
        "colab_type": "text",
        "id": "zpmiSmiBntiD"
      },
      "source": [
        "**Notes about SVM Hyperparameters**\n",
        "\n",
        "High gamma means high bias and low variance\n",
        "Low gamma means low bias and high variance\n",
        "\n",
        "High C means high variance and low bias\n",
        "\n",
        "Bias is underfitting and variance is overfitting"
      ]
    },
    {
      "cell_type": "code",
      "metadata": {
        "id": "zq0Ne6_APE53",
        "colab_type": "code",
        "outputId": "ca020cb4-fce3-4b5b-b07b-9f61bf97af23",
        "colab": {
          "base_uri": "https://localhost:8080/",
          "height": 51
        }
      },
      "source": [
        "# Upload file\n",
        "import os\n",
        "\n",
        "if not os.path.exists(\"heart-attack-prediction.csv\"):\n",
        "    !rm -rf sample_data\n",
        "    from google.colab import files\n",
        "    files.upload()\n",
        "    !xz -d *.xz\n",
        "    print(\"Uploaded files:\")\n",
        "    !ls\n",
        "else:\n",
        "    print(\"Already have files:\")\n",
        "    !ls"
      ],
      "execution_count": 0,
      "outputs": [
        {
          "output_type": "stream",
          "text": [
            "Already have files:\n",
            "heart-attack-prediction.csv\n"
          ],
          "name": "stdout"
        }
      ]
    },
    {
      "cell_type": "code",
      "metadata": {
        "id": "FMmDn02gRhKB",
        "colab_type": "code",
        "colab": {}
      },
      "source": [
        "# Prepare dataframe\n",
        "import pandas as pd\n",
        "import numpy as np\n",
        "\n",
        "df = (pd.read_csv(\"heart-attack-prediction.csv\")\n",
        "        .replace(\"?\", np.nan) # change ? to nan\n",
        "        \n",
        "        .drop([\"ca\", \"thal\", \"slope\"], axis=1)) # drop columns w/ too many nulls\n",
        "\n",
        "# Encode feature cp using one-hot encoding\n",
        "df = pd.concat([df, pd.get_dummies(df[\"cp\"], prefix=\"cp\")], axis=1) # Don't drop first if using SVM\n",
        "df = pd.concat([df, pd.get_dummies(df[\"restecg\"], prefix=\"restecg\")], axis=1)\n",
        "\n",
        "# Reorder and drop columns\n",
        "df = df[[\"age\", \"sex\", \"cp_1\", \"cp_2\", \"cp_3\", \"cp_4\", \"trestbps\", \"chol\", \"fbs\", \"restecg_0\", \"restecg_1\", \"restecg_2\", \"thalach\", \"exang\", \"oldpeak\", \"num\"]]"
      ],
      "execution_count": 0,
      "outputs": []
    },
    {
      "cell_type": "code",
      "metadata": {
        "id": "Zx9GuPfvXpL8",
        "colab_type": "code",
        "outputId": "c60b02a8-a686-4da5-b6f1-d7eb47813f72",
        "colab": {
          "base_uri": "https://localhost:8080/",
          "height": 204
        }
      },
      "source": [
        "from sklearn.experimental import enable_iterative_imputer\n",
        "from sklearn.impute import IterativeImputer\n",
        "\n",
        "imp = IterativeImputer(max_iter=10, random_state=0)\n",
        "\n",
        "imp.fit(df);\n",
        "\n",
        "col = df.columns\n",
        "\n",
        "df = pd.DataFrame(imp.transform(df))\n",
        "\n",
        "df.columns = col\n",
        "\n",
        "# for column in df.columns:\n",
        "#     print (column, df[column].unique(), \"\\n\")\n",
        "    \n",
        "df.head()"
      ],
      "execution_count": 0,
      "outputs": [
        {
          "output_type": "execute_result",
          "data": {
            "text/html": [
              "<div>\n",
              "<style scoped>\n",
              "    .dataframe tbody tr th:only-of-type {\n",
              "        vertical-align: middle;\n",
              "    }\n",
              "\n",
              "    .dataframe tbody tr th {\n",
              "        vertical-align: top;\n",
              "    }\n",
              "\n",
              "    .dataframe thead th {\n",
              "        text-align: right;\n",
              "    }\n",
              "</style>\n",
              "<table border=\"1\" class=\"dataframe\">\n",
              "  <thead>\n",
              "    <tr style=\"text-align: right;\">\n",
              "      <th></th>\n",
              "      <th>age</th>\n",
              "      <th>sex</th>\n",
              "      <th>cp_1</th>\n",
              "      <th>cp_2</th>\n",
              "      <th>cp_3</th>\n",
              "      <th>cp_4</th>\n",
              "      <th>trestbps</th>\n",
              "      <th>chol</th>\n",
              "      <th>fbs</th>\n",
              "      <th>restecg_0</th>\n",
              "      <th>restecg_1</th>\n",
              "      <th>restecg_2</th>\n",
              "      <th>thalach</th>\n",
              "      <th>exang</th>\n",
              "      <th>oldpeak</th>\n",
              "      <th>num</th>\n",
              "    </tr>\n",
              "  </thead>\n",
              "  <tbody>\n",
              "    <tr>\n",
              "      <th>0</th>\n",
              "      <td>28.0</td>\n",
              "      <td>1.0</td>\n",
              "      <td>0.0</td>\n",
              "      <td>1.0</td>\n",
              "      <td>0.0</td>\n",
              "      <td>0.0</td>\n",
              "      <td>130.0</td>\n",
              "      <td>132.000000</td>\n",
              "      <td>0.0</td>\n",
              "      <td>0.0</td>\n",
              "      <td>0.0</td>\n",
              "      <td>1.0</td>\n",
              "      <td>185.0</td>\n",
              "      <td>0.0</td>\n",
              "      <td>0.0</td>\n",
              "      <td>0.0</td>\n",
              "    </tr>\n",
              "    <tr>\n",
              "      <th>1</th>\n",
              "      <td>29.0</td>\n",
              "      <td>1.0</td>\n",
              "      <td>0.0</td>\n",
              "      <td>1.0</td>\n",
              "      <td>0.0</td>\n",
              "      <td>0.0</td>\n",
              "      <td>120.0</td>\n",
              "      <td>243.000000</td>\n",
              "      <td>0.0</td>\n",
              "      <td>1.0</td>\n",
              "      <td>0.0</td>\n",
              "      <td>0.0</td>\n",
              "      <td>160.0</td>\n",
              "      <td>0.0</td>\n",
              "      <td>0.0</td>\n",
              "      <td>0.0</td>\n",
              "    </tr>\n",
              "    <tr>\n",
              "      <th>2</th>\n",
              "      <td>29.0</td>\n",
              "      <td>1.0</td>\n",
              "      <td>0.0</td>\n",
              "      <td>1.0</td>\n",
              "      <td>0.0</td>\n",
              "      <td>0.0</td>\n",
              "      <td>140.0</td>\n",
              "      <td>243.837881</td>\n",
              "      <td>0.0</td>\n",
              "      <td>1.0</td>\n",
              "      <td>0.0</td>\n",
              "      <td>0.0</td>\n",
              "      <td>170.0</td>\n",
              "      <td>0.0</td>\n",
              "      <td>0.0</td>\n",
              "      <td>0.0</td>\n",
              "    </tr>\n",
              "    <tr>\n",
              "      <th>3</th>\n",
              "      <td>30.0</td>\n",
              "      <td>0.0</td>\n",
              "      <td>1.0</td>\n",
              "      <td>0.0</td>\n",
              "      <td>0.0</td>\n",
              "      <td>0.0</td>\n",
              "      <td>170.0</td>\n",
              "      <td>237.000000</td>\n",
              "      <td>0.0</td>\n",
              "      <td>0.0</td>\n",
              "      <td>1.0</td>\n",
              "      <td>0.0</td>\n",
              "      <td>170.0</td>\n",
              "      <td>0.0</td>\n",
              "      <td>0.0</td>\n",
              "      <td>0.0</td>\n",
              "    </tr>\n",
              "    <tr>\n",
              "      <th>4</th>\n",
              "      <td>31.0</td>\n",
              "      <td>0.0</td>\n",
              "      <td>0.0</td>\n",
              "      <td>1.0</td>\n",
              "      <td>0.0</td>\n",
              "      <td>0.0</td>\n",
              "      <td>100.0</td>\n",
              "      <td>219.000000</td>\n",
              "      <td>0.0</td>\n",
              "      <td>0.0</td>\n",
              "      <td>1.0</td>\n",
              "      <td>0.0</td>\n",
              "      <td>150.0</td>\n",
              "      <td>0.0</td>\n",
              "      <td>0.0</td>\n",
              "      <td>0.0</td>\n",
              "    </tr>\n",
              "  </tbody>\n",
              "</table>\n",
              "</div>"
            ],
            "text/plain": [
              "    age  sex  cp_1  cp_2  cp_3  ...  restecg_2  thalach  exang  oldpeak  num\n",
              "0  28.0  1.0   0.0   1.0   0.0  ...        1.0    185.0    0.0      0.0  0.0\n",
              "1  29.0  1.0   0.0   1.0   0.0  ...        0.0    160.0    0.0      0.0  0.0\n",
              "2  29.0  1.0   0.0   1.0   0.0  ...        0.0    170.0    0.0      0.0  0.0\n",
              "3  30.0  0.0   1.0   0.0   0.0  ...        0.0    170.0    0.0      0.0  0.0\n",
              "4  31.0  0.0   0.0   1.0   0.0  ...        0.0    150.0    0.0      0.0  0.0\n",
              "\n",
              "[5 rows x 16 columns]"
            ]
          },
          "metadata": {
            "tags": []
          },
          "execution_count": 231
        }
      ]
    },
    {
      "cell_type": "code",
      "metadata": {
        "id": "g1d9UlJuqjIg",
        "colab_type": "code",
        "colab": {}
      },
      "source": [
        "from sklearn.model_selection import train_test_split\n",
        "\n",
        "x = df.drop(\"num\", axis=1)\n",
        "y = df[\"num\"]\n",
        "\n",
        "x_train, x_test, y_train, y_test = train_test_split(x, y, test_size=0.1)"
      ],
      "execution_count": 0,
      "outputs": []
    },
    {
      "cell_type": "code",
      "metadata": {
        "id": "o4xe5JUBgsWF",
        "colab_type": "code",
        "colab": {}
      },
      "source": [
        "from sklearn.svm import SVC\n",
        "svm = SVC(kernel=\"linear\", gamma=0.00001, C=100)\n",
        "\n",
        "svm.fit(x_train, y_train)\n",
        "\n",
        "y_pred = svm.predict(x_test)"
      ],
      "execution_count": 0,
      "outputs": []
    },
    {
      "cell_type": "code",
      "metadata": {
        "id": "euNGig57iw0Y",
        "colab_type": "code",
        "outputId": "621b21a7-d22d-4b4e-e656-260d95c10c87",
        "colab": {
          "base_uri": "https://localhost:8080/",
          "height": 51
        }
      },
      "source": [
        "from sklearn.metrics import confusion_matrix\n",
        "\n",
        "cm = confusion_matrix(y_pred, y_test)\n",
        "cm"
      ],
      "execution_count": 0,
      "outputs": [
        {
          "output_type": "execute_result",
          "data": {
            "text/plain": [
              "array([[ 9,  5],\n",
              "       [12,  4]])"
            ]
          },
          "metadata": {
            "tags": []
          },
          "execution_count": 234
        }
      ]
    },
    {
      "cell_type": "code",
      "metadata": {
        "id": "D2nbkk4M0b3e",
        "colab_type": "code",
        "outputId": "96302424-b1f4-4ec2-f133-849bfaed2f1c",
        "colab": {
          "base_uri": "https://localhost:8080/",
          "height": 204
        }
      },
      "source": [
        "acc = (cm[0][0]+cm[1][1])/(cm.sum().sum())\n",
        "prec = (cm[1][1])/(cm[1][0]+cm[1][1])\n",
        "rec = (cm[1][1])/(cm[0][1]+cm[1][1])\n",
        "f1 = 2*prec*rec/(prec+rec)\n",
        "f2 = 5*prec*rec/(4*prec+rec)\n",
        "\n",
        "metrics = pd.DataFrame({\"Metric\": [\"f1\", \"f2\", \"precision\", \"recall\", \"accuracy\"], \"Score\": [f1, f2, prec, rec, acc]})\n",
        "metrics"
      ],
      "execution_count": 0,
      "outputs": [
        {
          "output_type": "execute_result",
          "data": {
            "text/html": [
              "<div>\n",
              "<style scoped>\n",
              "    .dataframe tbody tr th:only-of-type {\n",
              "        vertical-align: middle;\n",
              "    }\n",
              "\n",
              "    .dataframe tbody tr th {\n",
              "        vertical-align: top;\n",
              "    }\n",
              "\n",
              "    .dataframe thead th {\n",
              "        text-align: right;\n",
              "    }\n",
              "</style>\n",
              "<table border=\"1\" class=\"dataframe\">\n",
              "  <thead>\n",
              "    <tr style=\"text-align: right;\">\n",
              "      <th></th>\n",
              "      <th>Metric</th>\n",
              "      <th>Score</th>\n",
              "    </tr>\n",
              "  </thead>\n",
              "  <tbody>\n",
              "    <tr>\n",
              "      <th>0</th>\n",
              "      <td>f1</td>\n",
              "      <td>0.320000</td>\n",
              "    </tr>\n",
              "    <tr>\n",
              "      <th>1</th>\n",
              "      <td>f2</td>\n",
              "      <td>0.384615</td>\n",
              "    </tr>\n",
              "    <tr>\n",
              "      <th>2</th>\n",
              "      <td>precision</td>\n",
              "      <td>0.250000</td>\n",
              "    </tr>\n",
              "    <tr>\n",
              "      <th>3</th>\n",
              "      <td>recall</td>\n",
              "      <td>0.444444</td>\n",
              "    </tr>\n",
              "    <tr>\n",
              "      <th>4</th>\n",
              "      <td>accuracy</td>\n",
              "      <td>0.433333</td>\n",
              "    </tr>\n",
              "  </tbody>\n",
              "</table>\n",
              "</div>"
            ],
            "text/plain": [
              "      Metric     Score\n",
              "0         f1  0.320000\n",
              "1         f2  0.384615\n",
              "2  precision  0.250000\n",
              "3     recall  0.444444\n",
              "4   accuracy  0.433333"
            ]
          },
          "metadata": {
            "tags": []
          },
          "execution_count": 235
        }
      ]
    }
  ]
}
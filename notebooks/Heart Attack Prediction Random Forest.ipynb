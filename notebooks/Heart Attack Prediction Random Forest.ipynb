{
  "nbformat": 4,
  "nbformat_minor": 0,
  "metadata": {
    "colab": {
      "name": "Heart Attack Prediction Random Forest",
      "version": "0.3.2",
      "provenance": [],
      "collapsed_sections": []
    },
    "kernelspec": {
      "name": "python3",
      "display_name": "Python 3"
    }
  },
  "cells": [
    {
      "cell_type": "code",
      "metadata": {
        "id": "zq0Ne6_APE53",
        "colab_type": "code",
        "outputId": "1a9c8ab0-9c93-44b4-c428-3257b365bb99",
        "colab": {
          "base_uri": "https://localhost:8080/",
          "height": 51
        }
      },
      "source": [
        "import os\n",
        "\n",
        "if not os.path.exists(\"heart-attack-prediction.csv\"):\n",
        "    !rm -rf sample_data\n",
        "    from google.colab import files\n",
        "    files.upload()\n",
        "    !xz -d *.xz\n",
        "    print(\"Uploaded files:\")\n",
        "    !ls\n",
        "else:\n",
        "    print(\"Already have files:\")\n",
        "    !ls"
      ],
      "execution_count": 0,
      "outputs": [
        {
          "output_type": "stream",
          "text": [
            "Already have files:\n",
            "heart-attack-prediction.csv\n"
          ],
          "name": "stdout"
        }
      ]
    },
    {
      "cell_type": "code",
      "metadata": {
        "id": "FMmDn02gRhKB",
        "colab_type": "code",
        "outputId": "54710afe-3348-4ffd-b77a-4b313ae07507",
        "colab": {
          "base_uri": "https://localhost:8080/",
          "height": 340
        }
      },
      "source": [
        "# Prepare dataframe\n",
        "import pandas as pd\n",
        "import numpy as np\n",
        "\n",
        "df = (pd.read_csv(\"heart-attack-prediction.csv\", na_values=\"?\")\n",
        "#         .replace(\"?\", np.nan) # change ? to nan\n",
        "        \n",
        "        .drop([\"ca\", \"thal\", \"slope\"], axis=1)) # drop columns w/ too many nulls\n",
        "\n",
        "df[\"restecg\"] = df[\"restecg\"].astype(pd.Int64Dtype())\n",
        "\n",
        "# Encode feature cp using one-hot encoding\n",
        "df = pd.concat([df, pd.get_dummies(df[\"cp\"], prefix=\"cp\", drop_first=True)], axis=1) # Don't drop first if using SVM\n",
        "df = pd.concat([df, pd.get_dummies(df[\"restecg\"], prefix=\"restecg\", drop_first=True)], axis=1)\n",
        "\n",
        "\n",
        "# Reorder and drop columns\n",
        "df = df[[\"age\", \"sex\", \"cp_2\", \"cp_3\", \"cp_4\", \"trestbps\", \"chol\", \"fbs\", \"restecg_1\", \"restecg_2\", \"thalach\", \"exang\", \"oldpeak\", \"num\"]]\n",
        "\n",
        "df.info()"
      ],
      "execution_count": 0,
      "outputs": [
        {
          "output_type": "stream",
          "text": [
            "<class 'pandas.core.frame.DataFrame'>\n",
            "RangeIndex: 294 entries, 0 to 293\n",
            "Data columns (total 14 columns):\n",
            "age          294 non-null int64\n",
            "sex          294 non-null int64\n",
            "cp_2         294 non-null uint8\n",
            "cp_3         294 non-null uint8\n",
            "cp_4         294 non-null uint8\n",
            "trestbps     293 non-null float64\n",
            "chol         271 non-null float64\n",
            "fbs          286 non-null float64\n",
            "restecg_1    294 non-null uint8\n",
            "restecg_2    294 non-null uint8\n",
            "thalach      293 non-null float64\n",
            "exang        293 non-null float64\n",
            "oldpeak      294 non-null float64\n",
            "num          294 non-null int64\n",
            "dtypes: float64(6), int64(3), uint8(5)\n",
            "memory usage: 22.2 KB\n"
          ],
          "name": "stdout"
        }
      ]
    },
    {
      "cell_type": "code",
      "metadata": {
        "id": "fMelvHJKstRW",
        "colab_type": "code",
        "outputId": "c54fbcbc-b0f1-49da-a12c-37bdcc7a75ab",
        "colab": {
          "base_uri": "https://localhost:8080/",
          "height": 224
        }
      },
      "source": [
        "from sklearn.impute import SimpleImputer\n",
        "\n",
        "imputer = SimpleImputer(strategy=\"mean\")\n",
        "\n",
        "imputer.fit(df)\n",
        "\n",
        "df = pd.DataFrame(imputer.transform(df), columns = df.columns)\n",
        "\n",
        "df.head()"
      ],
      "execution_count": 0,
      "outputs": [
        {
          "output_type": "execute_result",
          "data": {
            "text/html": [
              "<div>\n",
              "<style scoped>\n",
              "    .dataframe tbody tr th:only-of-type {\n",
              "        vertical-align: middle;\n",
              "    }\n",
              "\n",
              "    .dataframe tbody tr th {\n",
              "        vertical-align: top;\n",
              "    }\n",
              "\n",
              "    .dataframe thead th {\n",
              "        text-align: right;\n",
              "    }\n",
              "</style>\n",
              "<table border=\"1\" class=\"dataframe\">\n",
              "  <thead>\n",
              "    <tr style=\"text-align: right;\">\n",
              "      <th></th>\n",
              "      <th>age</th>\n",
              "      <th>sex</th>\n",
              "      <th>cp_2</th>\n",
              "      <th>cp_3</th>\n",
              "      <th>cp_4</th>\n",
              "      <th>trestbps</th>\n",
              "      <th>chol</th>\n",
              "      <th>fbs</th>\n",
              "      <th>restecg_1</th>\n",
              "      <th>restecg_2</th>\n",
              "      <th>thalach</th>\n",
              "      <th>exang</th>\n",
              "      <th>oldpeak</th>\n",
              "      <th>num</th>\n",
              "    </tr>\n",
              "  </thead>\n",
              "  <tbody>\n",
              "    <tr>\n",
              "      <th>0</th>\n",
              "      <td>28.0</td>\n",
              "      <td>1.0</td>\n",
              "      <td>1.0</td>\n",
              "      <td>0.0</td>\n",
              "      <td>0.0</td>\n",
              "      <td>130.0</td>\n",
              "      <td>132.000000</td>\n",
              "      <td>0.0</td>\n",
              "      <td>0.0</td>\n",
              "      <td>1.0</td>\n",
              "      <td>185.0</td>\n",
              "      <td>0.0</td>\n",
              "      <td>0.0</td>\n",
              "      <td>0.0</td>\n",
              "    </tr>\n",
              "    <tr>\n",
              "      <th>1</th>\n",
              "      <td>29.0</td>\n",
              "      <td>1.0</td>\n",
              "      <td>1.0</td>\n",
              "      <td>0.0</td>\n",
              "      <td>0.0</td>\n",
              "      <td>120.0</td>\n",
              "      <td>243.000000</td>\n",
              "      <td>0.0</td>\n",
              "      <td>0.0</td>\n",
              "      <td>0.0</td>\n",
              "      <td>160.0</td>\n",
              "      <td>0.0</td>\n",
              "      <td>0.0</td>\n",
              "      <td>0.0</td>\n",
              "    </tr>\n",
              "    <tr>\n",
              "      <th>2</th>\n",
              "      <td>29.0</td>\n",
              "      <td>1.0</td>\n",
              "      <td>1.0</td>\n",
              "      <td>0.0</td>\n",
              "      <td>0.0</td>\n",
              "      <td>140.0</td>\n",
              "      <td>250.848708</td>\n",
              "      <td>0.0</td>\n",
              "      <td>0.0</td>\n",
              "      <td>0.0</td>\n",
              "      <td>170.0</td>\n",
              "      <td>0.0</td>\n",
              "      <td>0.0</td>\n",
              "      <td>0.0</td>\n",
              "    </tr>\n",
              "    <tr>\n",
              "      <th>3</th>\n",
              "      <td>30.0</td>\n",
              "      <td>0.0</td>\n",
              "      <td>0.0</td>\n",
              "      <td>0.0</td>\n",
              "      <td>0.0</td>\n",
              "      <td>170.0</td>\n",
              "      <td>237.000000</td>\n",
              "      <td>0.0</td>\n",
              "      <td>1.0</td>\n",
              "      <td>0.0</td>\n",
              "      <td>170.0</td>\n",
              "      <td>0.0</td>\n",
              "      <td>0.0</td>\n",
              "      <td>0.0</td>\n",
              "    </tr>\n",
              "    <tr>\n",
              "      <th>4</th>\n",
              "      <td>31.0</td>\n",
              "      <td>0.0</td>\n",
              "      <td>1.0</td>\n",
              "      <td>0.0</td>\n",
              "      <td>0.0</td>\n",
              "      <td>100.0</td>\n",
              "      <td>219.000000</td>\n",
              "      <td>0.0</td>\n",
              "      <td>1.0</td>\n",
              "      <td>0.0</td>\n",
              "      <td>150.0</td>\n",
              "      <td>0.0</td>\n",
              "      <td>0.0</td>\n",
              "      <td>0.0</td>\n",
              "    </tr>\n",
              "  </tbody>\n",
              "</table>\n",
              "</div>"
            ],
            "text/plain": [
              "    age  sex  cp_2  cp_3  cp_4  ...  restecg_2  thalach  exang  oldpeak  num\n",
              "0  28.0  1.0   1.0   0.0   0.0  ...        1.0    185.0    0.0      0.0  0.0\n",
              "1  29.0  1.0   1.0   0.0   0.0  ...        0.0    160.0    0.0      0.0  0.0\n",
              "2  29.0  1.0   1.0   0.0   0.0  ...        0.0    170.0    0.0      0.0  0.0\n",
              "3  30.0  0.0   0.0   0.0   0.0  ...        0.0    170.0    0.0      0.0  0.0\n",
              "4  31.0  0.0   1.0   0.0   0.0  ...        0.0    150.0    0.0      0.0  0.0\n",
              "\n",
              "[5 rows x 14 columns]"
            ]
          },
          "metadata": {
            "tags": []
          },
          "execution_count": 86
        }
      ]
    },
    {
      "cell_type": "code",
      "metadata": {
        "id": "g1d9UlJuqjIg",
        "colab_type": "code",
        "outputId": "fef7105d-5507-43a8-ca3b-7a5412ba53b1",
        "colab": {
          "base_uri": "https://localhost:8080/",
          "height": 51
        }
      },
      "source": [
        "from sklearn.model_selection import train_test_split\n",
        "\n",
        "x = df.drop(\"num\", axis=1)\n",
        "y = df[\"num\"]\n",
        "\n",
        "\n",
        "x_train, x_test, y_train, y_test = train_test_split(x, y, test_size=0.2)\n",
        "\n",
        "print(len(x_train), 'train examples')\n",
        "print(len(x_test), 'test examples')"
      ],
      "execution_count": 0,
      "outputs": [
        {
          "output_type": "stream",
          "text": [
            "235 train examples\n",
            "59 test examples\n"
          ],
          "name": "stdout"
        }
      ]
    },
    {
      "cell_type": "code",
      "metadata": {
        "id": "WmFIttELBBcu",
        "colab_type": "code",
        "colab": {}
      },
      "source": [
        "from sklearn.ensemble import RandomForestClassifier\n",
        "\n",
        "model = RandomForestClassifier(n_estimators=10, max_depth=5)\n",
        "\n",
        "model.fit(x_train, y_train)\n",
        "\n",
        "y_predict = model.predict(x_test)"
      ],
      "execution_count": 0,
      "outputs": []
    },
    {
      "cell_type": "code",
      "metadata": {
        "id": "XWKtvHSwBBnX",
        "colab_type": "code",
        "outputId": "bfde514d-b0aa-4208-8c77-a030e913e31a",
        "colab": {
          "base_uri": "https://localhost:8080/",
          "height": 51
        }
      },
      "source": [
        "from sklearn.metrics import confusion_matrix\n",
        "\n",
        "cm = confusion_matrix(y_predict, y_test)\n",
        "\n",
        "cm"
      ],
      "execution_count": 0,
      "outputs": [
        {
          "output_type": "execute_result",
          "data": {
            "text/plain": [
              "array([[31,  5],\n",
              "       [ 2, 21]])"
            ]
          },
          "metadata": {
            "tags": []
          },
          "execution_count": 89
        }
      ]
    },
    {
      "cell_type": "code",
      "metadata": {
        "id": "u5tqRzqCBCwh",
        "colab_type": "code",
        "outputId": "604188c9-00ac-4872-87d2-f43ee2697049",
        "colab": {
          "base_uri": "https://localhost:8080/",
          "height": 204
        }
      },
      "source": [
        "acc = (cm[0][0]+cm[1][1])/(cm.sum().sum())\n",
        "prec = (cm[1][1])/(cm[1][0]+cm[1][1])\n",
        "rec = (cm[1][1])/(cm[0][1]+cm[1][1])\n",
        "f1 = 2*prec*rec/(prec+rec)\n",
        "f2 = 5*prec*rec/(4*prec+rec)\n",
        "\n",
        "metrics = pd.DataFrame({\"Metric\": [\"f1\", \"f2\", \"precision\", \"recall\", \"accuracy\"], \"Score\": [f1, f2, prec, rec, acc]})\n",
        "metrics"
      ],
      "execution_count": 0,
      "outputs": [
        {
          "output_type": "execute_result",
          "data": {
            "text/html": [
              "<div>\n",
              "<style scoped>\n",
              "    .dataframe tbody tr th:only-of-type {\n",
              "        vertical-align: middle;\n",
              "    }\n",
              "\n",
              "    .dataframe tbody tr th {\n",
              "        vertical-align: top;\n",
              "    }\n",
              "\n",
              "    .dataframe thead th {\n",
              "        text-align: right;\n",
              "    }\n",
              "</style>\n",
              "<table border=\"1\" class=\"dataframe\">\n",
              "  <thead>\n",
              "    <tr style=\"text-align: right;\">\n",
              "      <th></th>\n",
              "      <th>Metric</th>\n",
              "      <th>Score</th>\n",
              "    </tr>\n",
              "  </thead>\n",
              "  <tbody>\n",
              "    <tr>\n",
              "      <th>0</th>\n",
              "      <td>f1</td>\n",
              "      <td>0.857143</td>\n",
              "    </tr>\n",
              "    <tr>\n",
              "      <th>1</th>\n",
              "      <td>f2</td>\n",
              "      <td>0.826772</td>\n",
              "    </tr>\n",
              "    <tr>\n",
              "      <th>2</th>\n",
              "      <td>precision</td>\n",
              "      <td>0.913043</td>\n",
              "    </tr>\n",
              "    <tr>\n",
              "      <th>3</th>\n",
              "      <td>recall</td>\n",
              "      <td>0.807692</td>\n",
              "    </tr>\n",
              "    <tr>\n",
              "      <th>4</th>\n",
              "      <td>accuracy</td>\n",
              "      <td>0.881356</td>\n",
              "    </tr>\n",
              "  </tbody>\n",
              "</table>\n",
              "</div>"
            ],
            "text/plain": [
              "      Metric     Score\n",
              "0         f1  0.857143\n",
              "1         f2  0.826772\n",
              "2  precision  0.913043\n",
              "3     recall  0.807692\n",
              "4   accuracy  0.881356"
            ]
          },
          "metadata": {
            "tags": []
          },
          "execution_count": 90
        }
      ]
    }
  ]
}
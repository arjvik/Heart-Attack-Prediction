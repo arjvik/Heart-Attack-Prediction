{
  "nbformat": 4,
  "nbformat_minor": 0,
  "metadata": {
    "colab": {
      "name": "Heart Attack Prediction with Logistic Regression Improved",
      "version": "0.3.2",
      "provenance": [],
      "collapsed_sections": []
    },
    "kernelspec": {
      "name": "python3",
      "display_name": "Python 3"
    }
  },
  "cells": [
    {
      "cell_type": "markdown",
      "metadata": {
        "id": "wpkozclyTayr",
        "colab_type": "text"
      },
      "source": [
        "**Ways to make it better:**\n",
        "\n",
        "\n",
        "\n",
        "*   One-hot Encoding\n",
        "*   Better Model"
      ]
    },
    {
      "cell_type": "markdown",
      "metadata": {
        "id": "MkTqbrURTg_V",
        "colab_type": "text"
      },
      "source": [
        "## Read and Prepare dataset\n",
        "\n"
      ]
    },
    {
      "cell_type": "code",
      "metadata": {
        "id": "HwoRjAIhGKqF",
        "colab_type": "code",
        "outputId": "08aa6ba9-7571-4817-f951-0163d6eee801",
        "colab": {
          "base_uri": "https://localhost:8080/",
          "height": 51
        }
      },
      "source": [
        "# Upload and decompress file\n",
        "import os\n",
        "\n",
        "if not os.path.exists(\"heart-attack-prediction.csv\"):\n",
        "    !rm -rf sample_data\n",
        "    from google.colab import files\n",
        "    files.upload()\n",
        "    !xz -d *.xz\n",
        "    print(\"Uploaded files:\")\n",
        "    !ls\n",
        "else:\n",
        "    print(\"Already have files:\")\n",
        "    !ls"
      ],
      "execution_count": 0,
      "outputs": [
        {
          "output_type": "stream",
          "text": [
            "Already have files:\n",
            "heart-attack-prediction.csv\n"
          ],
          "name": "stdout"
        }
      ]
    },
    {
      "cell_type": "code",
      "metadata": {
        "id": "vntfJifF9Dq4",
        "colab_type": "code",
        "outputId": "2b9b7764-814b-485a-f85f-203c42d07729",
        "colab": {
          "base_uri": "https://localhost:8080/",
          "height": 88
        }
      },
      "source": [
        "# Read CSV, prepare dataframe, split x and y\n",
        "import numpy as np\n",
        "import pandas as pd\n",
        "\n",
        "dataset = pd.read_csv(\"heart-attack-prediction.csv\")\n",
        "\n",
        "# converting all string values to nan\n",
        "dataset = dataset.convert_objects(convert_numeric=True)\n",
        "\n",
        "# drop columns with too many NaNs\n",
        "dataset = dataset.drop([\"ca\", \"thal\"], axis=1)\n",
        "\n",
        "# one-hot cp\n",
        "\n",
        "# split x, y\n",
        "x = dataset.iloc[:, :-1].values\n",
        "y = dataset.iloc[:, -1].values"
      ],
      "execution_count": 0,
      "outputs": [
        {
          "output_type": "stream",
          "text": [
            "/usr/local/lib/python3.6/dist-packages/ipykernel_launcher.py:7: FutureWarning: convert_objects is deprecated.  To re-infer data dtypes for object columns, use DataFrame.infer_objects()\n",
            "For all other conversions use the data-type specific converters pd.to_datetime, pd.to_timedelta and pd.to_numeric.\n",
            "  import sys\n"
          ],
          "name": "stderr"
        }
      ]
    },
    {
      "cell_type": "code",
      "metadata": {
        "id": "5jh53UI6ct0K",
        "colab_type": "code",
        "outputId": "29a3affb-890d-429f-ae70-ed3b77703561",
        "colab": {
          "base_uri": "https://localhost:8080/",
          "height": 71
        }
      },
      "source": [
        "# Fill in NaNs, scale\n",
        "from sklearn.preprocessing import Imputer\n",
        "imputer = Imputer(missing_values = \"NaN\", strategy =\"mean\", axis = 0)\n",
        "imputer = imputer.fit(x[:,0:13])   \n",
        "x[:, 0:13] = imputer.transform(x[:, 0:13])\n",
        "\n",
        "from sklearn.preprocessing import StandardScaler\n",
        "sc_X = StandardScaler()\n",
        "x = sc_X.fit_transform(x)"
      ],
      "execution_count": 0,
      "outputs": [
        {
          "output_type": "stream",
          "text": [
            "/usr/local/lib/python3.6/dist-packages/sklearn/utils/deprecation.py:66: DeprecationWarning: Class Imputer is deprecated; Imputer was deprecated in version 0.20 and will be removed in 0.22. Import impute.SimpleImputer from sklearn instead.\n",
            "  warnings.warn(msg, category=DeprecationWarning)\n"
          ],
          "name": "stderr"
        }
      ]
    },
    {
      "cell_type": "code",
      "metadata": {
        "id": "-BuK9pad03Q4",
        "colab_type": "code",
        "cellView": "both",
        "colab": {}
      },
      "source": [
        "#@title Training options\n",
        "metric = \"f1\" #@param [\"f1\", \"f2\", \"precision\", \"recall\", \"accuracy\"]\n",
        "training_attempts = 1000 #@param {type:\"slider\", min:0, max:1000, step:1}\n"
      ],
      "execution_count": 0,
      "outputs": []
    },
    {
      "cell_type": "code",
      "metadata": {
        "id": "BNnruOUhcuAc",
        "colab_type": "code",
        "colab": {}
      },
      "source": [
        "best_cm = [[0,0],[0,0]]\n",
        "\n",
        "best_f1 = 0\n",
        "best_f2 = 0\n",
        "best_precision = 0\n",
        "best_recall = 0\n",
        "best_accuracy = 0\n",
        "best_weights = []\n",
        "\n",
        "metric_decision = eval(\"lambda f1, f2, precision, recall, accuracy: %s > best_%s\"%(metric, metric))\n",
        "\n",
        "def calculate_metrics(cm):\n",
        "    tn, fp, fn, tp = cm.ravel()\n",
        "    precision = tp/(tp+fp) # How many of the people we identify actualy have heart attacks?\n",
        "    recall = tp/(tp+fn) # How many of the heart attacks did we predict\n",
        "    accuracy = (tp+tn)/(tp+tn+fp+fn) # How accurate were our predictions\n",
        "    f1 = 2*(precision*recall)/(precision+recall) # Even mix of precision and recall\n",
        "    f2 = 5*(precision*recall)/(4*precision+recall) # Weighs recall more\n",
        "    return f1, f2, precision, recall, accuracy\n",
        "\n",
        "\n",
        "def save_best(cm, f1, f2, precision, recall, accuracy, weights):\n",
        "    if metric_decision(f1, f2, precision, recall, accuracy):\n",
        "        for metric in [\"cm\", \"f1\", \"f2\", \"precision\", \"recall\", \"accuracy\", \"weights\"]:\n",
        "            exec(\"global best_%s; best_%s = %s\"%(metric, metric, metric))\n",
        "\n"
      ],
      "execution_count": 0,
      "outputs": []
    },
    {
      "cell_type": "code",
      "metadata": {
        "id": "kei3SYRxS-z1",
        "colab_type": "code",
        "colab": {}
      },
      "source": [
        "from sklearn.model_selection import train_test_split\n",
        "x_train_cv, x_test, y_train_cv, y_test = train_test_split(x, y, test_size = 0.2)"
      ],
      "execution_count": 0,
      "outputs": []
    },
    {
      "cell_type": "code",
      "metadata": {
        "id": "gzO8cdvPzKUW",
        "colab_type": "code",
        "outputId": "e9264ce2-730b-4fd7-a689-4f1231c5e006",
        "colab": {
          "base_uri": "https://localhost:8080/",
          "height": 34
        }
      },
      "source": [
        "from tqdm import tqdm\n",
        "\n",
        "for i in tqdm(range(training_attempts)):\n",
        "    \n",
        "    x_train,x_cv,y_train,y_cv = train_test_split(x_train_cv , y_train_cv , test_size=0.1)\n",
        "    \n",
        "    from sklearn.linear_model import LogisticRegression\n",
        "    result = LogisticRegression(random_state = 0, solver = \"lbfgs\")\n",
        "    result.fit(x_train,y_train)\n",
        "\n",
        "    y_predict = result.predict(x_cv)\n",
        "    from sklearn.metrics import confusion_matrix\n",
        "    cm = confusion_matrix(y_cv,y_predict)\n",
        "    \n",
        "    f1, f2, precision, recall, accuracy = calculate_metrics(cm)\n",
        "    weights = np.hstack((result.intercept_[:,None], result.coef_*np.std(x, 0)))\n",
        "    \n",
        "    save_best(cm, f1, f2, precision, recall, accuracy, weights)"
      ],
      "execution_count": 0,
      "outputs": [
        {
          "output_type": "stream",
          "text": [
            "100%|██████████| 1000/1000 [00:04<00:00, 247.81it/s]\n"
          ],
          "name": "stderr"
        }
      ]
    },
    {
      "cell_type": "code",
      "metadata": {
        "id": "IyTCI2A6TSmq",
        "colab_type": "code",
        "colab": {}
      },
      "source": [
        "y_predict_test = result.predict(x_test)\n",
        "from sklearn.metrics import confusion_matrix\n",
        "cm = confusion_matrix(y_test,y_predict_test)\n",
        "\n",
        "f1, f2, precision, recall, accuracy = calculate_metrics(cm)\n"
      ],
      "execution_count": 0,
      "outputs": []
    },
    {
      "cell_type": "code",
      "metadata": {
        "id": "7BX4WUJYG0Bg",
        "colab_type": "code",
        "outputId": "97c63bc3-780a-4c20-acca-dc114a5f6294",
        "colab": {
          "base_uri": "https://localhost:8080/",
          "height": 526
        }
      },
      "source": [
        "results = pd.DataFrame({\"Column\": dataset.columns, \"Weight\": best_weights[0]})\n",
        "results.Column[len(results.Column)-1] = \"Bias (y-intercept)\"\n",
        "results"
      ],
      "execution_count": 0,
      "outputs": [
        {
          "output_type": "stream",
          "text": [
            "/usr/local/lib/python3.6/dist-packages/ipykernel_launcher.py:2: SettingWithCopyWarning: \n",
            "A value is trying to be set on a copy of a slice from a DataFrame\n",
            "\n",
            "See the caveats in the documentation: http://pandas.pydata.org/pandas-docs/stable/indexing.html#indexing-view-versus-copy\n",
            "  \n"
          ],
          "name": "stderr"
        },
        {
          "output_type": "execute_result",
          "data": {
            "text/html": [
              "<div>\n",
              "<style scoped>\n",
              "    .dataframe tbody tr th:only-of-type {\n",
              "        vertical-align: middle;\n",
              "    }\n",
              "\n",
              "    .dataframe tbody tr th {\n",
              "        vertical-align: top;\n",
              "    }\n",
              "\n",
              "    .dataframe thead th {\n",
              "        text-align: right;\n",
              "    }\n",
              "</style>\n",
              "<table border=\"1\" class=\"dataframe\">\n",
              "  <thead>\n",
              "    <tr style=\"text-align: right;\">\n",
              "      <th></th>\n",
              "      <th>Column</th>\n",
              "      <th>Weight</th>\n",
              "    </tr>\n",
              "  </thead>\n",
              "  <tbody>\n",
              "    <tr>\n",
              "      <th>0</th>\n",
              "      <td>age</td>\n",
              "      <td>-0.910333</td>\n",
              "    </tr>\n",
              "    <tr>\n",
              "      <th>1</th>\n",
              "      <td>sex</td>\n",
              "      <td>0.186322</td>\n",
              "    </tr>\n",
              "    <tr>\n",
              "      <th>2</th>\n",
              "      <td>cp</td>\n",
              "      <td>0.554563</td>\n",
              "    </tr>\n",
              "    <tr>\n",
              "      <th>3</th>\n",
              "      <td>trestbps</td>\n",
              "      <td>0.912624</td>\n",
              "    </tr>\n",
              "    <tr>\n",
              "      <th>4</th>\n",
              "      <td>chol</td>\n",
              "      <td>-0.153888</td>\n",
              "    </tr>\n",
              "    <tr>\n",
              "      <th>5</th>\n",
              "      <td>fbs</td>\n",
              "      <td>0.338960</td>\n",
              "    </tr>\n",
              "    <tr>\n",
              "      <th>6</th>\n",
              "      <td>restecg</td>\n",
              "      <td>0.455813</td>\n",
              "    </tr>\n",
              "    <tr>\n",
              "      <th>7</th>\n",
              "      <td>thalach</td>\n",
              "      <td>-0.117375</td>\n",
              "    </tr>\n",
              "    <tr>\n",
              "      <th>8</th>\n",
              "      <td>exang</td>\n",
              "      <td>-0.043155</td>\n",
              "    </tr>\n",
              "    <tr>\n",
              "      <th>9</th>\n",
              "      <td>oldpeak</td>\n",
              "      <td>0.385724</td>\n",
              "    </tr>\n",
              "    <tr>\n",
              "      <th>10</th>\n",
              "      <td>slope</td>\n",
              "      <td>0.957705</td>\n",
              "    </tr>\n",
              "    <tr>\n",
              "      <th>11</th>\n",
              "      <td>Bias (y-intercept)</td>\n",
              "      <td>0.813091</td>\n",
              "    </tr>\n",
              "  </tbody>\n",
              "</table>\n",
              "</div>"
            ],
            "text/plain": [
              "                Column    Weight\n",
              "0                  age -0.910333\n",
              "1                  sex  0.186322\n",
              "2                   cp  0.554563\n",
              "3             trestbps  0.912624\n",
              "4                 chol -0.153888\n",
              "5                  fbs  0.338960\n",
              "6              restecg  0.455813\n",
              "7              thalach -0.117375\n",
              "8                exang -0.043155\n",
              "9              oldpeak  0.385724\n",
              "10               slope  0.957705\n",
              "11  Bias (y-intercept)  0.813091"
            ]
          },
          "metadata": {
            "tags": []
          },
          "execution_count": 152
        }
      ]
    },
    {
      "cell_type": "code",
      "metadata": {
        "id": "zvM5-8UnPSIJ",
        "colab_type": "code",
        "outputId": "cfffb961-06e2-42a3-a86c-5525b358c9a8",
        "colab": {
          "base_uri": "https://localhost:8080/",
          "height": 204
        }
      },
      "source": [
        "metrics = pd.DataFrame({\"Metric\": [\"f1\", \"f2\", \"precision\", \"recall\", \"accuracy\"], \"Score\": [f1, f2, precision, recall, accuracy]})\n",
        "metrics"
      ],
      "execution_count": 0,
      "outputs": [
        {
          "output_type": "execute_result",
          "data": {
            "text/html": [
              "<div>\n",
              "<style scoped>\n",
              "    .dataframe tbody tr th:only-of-type {\n",
              "        vertical-align: middle;\n",
              "    }\n",
              "\n",
              "    .dataframe tbody tr th {\n",
              "        vertical-align: top;\n",
              "    }\n",
              "\n",
              "    .dataframe thead th {\n",
              "        text-align: right;\n",
              "    }\n",
              "</style>\n",
              "<table border=\"1\" class=\"dataframe\">\n",
              "  <thead>\n",
              "    <tr style=\"text-align: right;\">\n",
              "      <th></th>\n",
              "      <th>Metric</th>\n",
              "      <th>Score</th>\n",
              "    </tr>\n",
              "  </thead>\n",
              "  <tbody>\n",
              "    <tr>\n",
              "      <th>0</th>\n",
              "      <td>f1</td>\n",
              "      <td>0.722222</td>\n",
              "    </tr>\n",
              "    <tr>\n",
              "      <th>1</th>\n",
              "      <td>f2</td>\n",
              "      <td>0.677083</td>\n",
              "    </tr>\n",
              "    <tr>\n",
              "      <th>2</th>\n",
              "      <td>precision</td>\n",
              "      <td>0.812500</td>\n",
              "    </tr>\n",
              "    <tr>\n",
              "      <th>3</th>\n",
              "      <td>recall</td>\n",
              "      <td>0.650000</td>\n",
              "    </tr>\n",
              "    <tr>\n",
              "      <th>4</th>\n",
              "      <td>accuracy</td>\n",
              "      <td>0.830508</td>\n",
              "    </tr>\n",
              "  </tbody>\n",
              "</table>\n",
              "</div>"
            ],
            "text/plain": [
              "      Metric     Score\n",
              "0         f1  0.722222\n",
              "1         f2  0.677083\n",
              "2  precision  0.812500\n",
              "3     recall  0.650000\n",
              "4   accuracy  0.830508"
            ]
          },
          "metadata": {
            "tags": []
          },
          "execution_count": 153
        }
      ]
    },
    {
      "cell_type": "code",
      "metadata": {
        "id": "qQSFFb1cPVzV",
        "colab_type": "code",
        "outputId": "d417448f-3659-43bc-834c-26687ca97835",
        "colab": {
          "base_uri": "https://localhost:8080/",
          "height": 85
        }
      },
      "source": [
        "print(\"Confusion matrix:\\n\")\n",
        "print(cm)"
      ],
      "execution_count": 0,
      "outputs": [
        {
          "output_type": "stream",
          "text": [
            "Confusion matrix:\n",
            "\n",
            "[[36  3]\n",
            " [ 7 13]]\n"
          ],
          "name": "stdout"
        }
      ]
    }
  ]
}
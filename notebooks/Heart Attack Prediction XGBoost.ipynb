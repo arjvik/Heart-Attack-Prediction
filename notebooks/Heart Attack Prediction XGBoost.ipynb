{
  "nbformat": 4,
  "nbformat_minor": 0,
  "metadata": {
    "colab": {
      "name": "Heart Attack Prediction XGBoost",
      "version": "0.3.2",
      "provenance": [],
      "collapsed_sections": []
    },
    "kernelspec": {
      "name": "python3",
      "display_name": "Python 3"
    }
  },
  "cells": [
    {
      "cell_type": "code",
      "metadata": {
        "id": "zq0Ne6_APE53",
        "colab_type": "code",
        "outputId": "199fe251-f3a8-4661-a53f-3b71994c23c1",
        "colab": {
          "base_uri": "https://localhost:8080/",
          "height": 51
        }
      },
      "source": [
        "import os\n",
        "\n",
        "if not os.path.exists(\"heart-attack-prediction.csv\"):\n",
        "    !rm -rf sample_data\n",
        "    from google.colab import files\n",
        "    files.upload()\n",
        "    !xz -d *.xz\n",
        "    print(\"Uploaded files:\")\n",
        "    !ls\n",
        "else:\n",
        "    print(\"Already have files:\")\n",
        "    !ls"
      ],
      "execution_count": 0,
      "outputs": [
        {
          "output_type": "stream",
          "text": [
            "Already have files:\n",
            "heart-attack-prediction.csv\n"
          ],
          "name": "stdout"
        }
      ]
    },
    {
      "cell_type": "code",
      "metadata": {
        "id": "FMmDn02gRhKB",
        "colab_type": "code",
        "outputId": "b527c938-2702-4140-a984-90f55706735e",
        "colab": {
          "base_uri": "https://localhost:8080/",
          "height": 955
        }
      },
      "source": [
        "# Prepare dataframe\n",
        "import pandas as pd\n",
        "import numpy as np\n",
        "\n",
        "df = (pd.read_csv(\"heart-attack-prediction.csv\", na_values=\"?\")\n",
        "#         .replace(\"?\", np.nan) # change ? to nan\n",
        "        \n",
        "        .drop([\"ca\", \"thal\", \"slope\"], axis=1)) # drop columns w/ too many nulls\n",
        "\n",
        "df[\"restecg\"] = df[\"restecg\"].astype(pd.Int64Dtype())\n",
        "\n",
        "# Encode feature cp using one-hot encoding\n",
        "df = pd.concat([df, pd.get_dummies(df[\"cp\"], prefix=\"cp\", drop_first=True)], axis=1) # Don't drop first if using SVM\n",
        "df = pd.concat([df, pd.get_dummies(df[\"restecg\"], prefix=\"restecg\", drop_first=True)], axis=1)\n",
        "\n",
        "\n",
        "# Reorder and drop columns\n",
        "df = df[[\"age\", \"sex\", \"cp_2\", \"cp_3\", \"cp_4\", \"trestbps\", \"chol\", \"fbs\", \"restecg_1\", \"restecg_2\", \"thalach\", \"exang\", \"oldpeak\", \"num\"]]\n",
        "\n",
        "print(df.head())\n",
        "\n",
        "for column in df.columns:\n",
        "    print (column, df[column].unique(), \"\\n\")"
      ],
      "execution_count": 0,
      "outputs": [
        {
          "output_type": "stream",
          "text": [
            "   age  sex  cp_2  cp_3  cp_4  ...  restecg_2  thalach  exang  oldpeak  num\n",
            "0   28    1     1     0     0  ...          1    185.0    0.0      0.0    0\n",
            "1   29    1     1     0     0  ...          0    160.0    0.0      0.0    0\n",
            "2   29    1     1     0     0  ...          0    170.0    0.0      0.0    0\n",
            "3   30    0     0     0     0  ...          0    170.0    0.0      0.0    0\n",
            "4   31    0     1     0     0  ...          0    150.0    0.0      0.0    0\n",
            "\n",
            "[5 rows x 14 columns]\n",
            "age [28 29 30 31 32 33 34 35 36 37 38 39 40 41 42 43 44 45 46 47 48 49 50 51\n",
            " 52 53 54 55 56 57 58 59 60 61 62 63 65 66] \n",
            "\n",
            "sex [1 0] \n",
            "\n",
            "cp_2 [1 0] \n",
            "\n",
            "cp_3 [0 1] \n",
            "\n",
            "cp_4 [0 1] \n",
            "\n",
            "trestbps [130. 120. 140. 170. 100. 105. 110. 125. 150.  98. 112. 145. 190. 160.\n",
            " 115. 142. 180. 132. 135.  nan 108. 124. 113. 122.  92. 118. 106. 200.\n",
            " 138. 136. 128. 155.] \n",
            "\n",
            "chol [132. 243.  nan 237. 219. 198. 225. 254. 298. 161. 214. 220. 160. 167.\n",
            " 308. 264. 166. 340. 209. 260. 211. 173. 283. 194. 223. 315. 275. 297.\n",
            " 292. 182. 200. 204. 241. 339. 147. 273. 307. 289. 215. 281. 250. 184.\n",
            " 245. 291. 295. 269. 196. 268. 228. 358. 201. 249. 266. 186. 207. 218.\n",
            " 412. 224. 238. 230. 163. 240. 280. 257. 263. 276. 284. 195. 227. 253.\n",
            " 187. 202. 328. 168. 216. 129. 190. 188. 179. 210. 272. 180. 100. 259.\n",
            " 468. 274. 320. 221. 309. 312. 171. 208. 246. 305. 217. 365. 344. 394.\n",
            " 256. 326. 277. 270. 229.  85. 347. 251. 222. 287. 318. 213. 294. 193.\n",
            " 271. 156. 267. 282. 117. 466. 247. 226. 265. 206. 288. 303. 338. 248.\n",
            " 306. 529. 392. 231. 329. 355. 233. 242. 603. 255. 172. 175. 290. 341.\n",
            " 234. 342. 404. 518. 285. 279. 388. 164. 336. 491. 205. 212. 331. 393.] \n",
            "\n",
            "fbs [ 0. nan  1.] \n",
            "\n",
            "restecg_1 [0 1] \n",
            "\n",
            "restecg_2 [1 0] \n",
            "\n",
            "thalach [185. 160. 170. 150. 165. 184. 155. 190. 168. 180. 178. 172. 130. 142.\n",
            "  98. 158. 129. 146. 145. 120. 106. 132. 140. 138. 167. 188. 144. 137.\n",
            " 136. 152. 175. 176. 118. 154. 115. 135. 122. 110.  90. 116. 174. 125.\n",
            "  nan 148. 100. 164. 139. 127. 162. 112. 134. 114. 128. 126. 124. 153.\n",
            " 166. 103. 156.  87. 102.  92.  99. 121.  91. 108.  96.  82. 105. 143.\n",
            " 119.  94.] \n",
            "\n",
            "exang [ 0.  1. nan] \n",
            "\n",
            "oldpeak [0.  1.  2.  1.5 0.5 3.  0.8 2.5 4.  5. ] \n",
            "\n",
            "num [0 1] \n",
            "\n"
          ],
          "name": "stdout"
        }
      ]
    },
    {
      "cell_type": "code",
      "metadata": {
        "id": "g1d9UlJuqjIg",
        "colab_type": "code",
        "outputId": "e3e87125-3d8e-42de-937f-158b31dd8034",
        "colab": {
          "base_uri": "https://localhost:8080/",
          "height": 51
        }
      },
      "source": [
        "from sklearn.model_selection import train_test_split\n",
        "\n",
        "x = df.drop(\"num\", axis=1)\n",
        "y = df[\"num\"]\n",
        "\n",
        "\n",
        "x_train, x_test, y_train, y_test = train_test_split(x, y, test_size=0.2)\n",
        "\n",
        "print(len(x_train), 'train examples')\n",
        "print(len(x_test), 'test examples')"
      ],
      "execution_count": 0,
      "outputs": [
        {
          "output_type": "stream",
          "text": [
            "235 train examples\n",
            "59 test examples\n"
          ],
          "name": "stdout"
        }
      ]
    },
    {
      "cell_type": "code",
      "metadata": {
        "id": "CSRoffmHVeVv",
        "colab_type": "code",
        "colab": {}
      },
      "source": [
        "from xgboost import XGBClassifier\n",
        "\n",
        "model = XGBClassifier()\n",
        "model.fit(x_train, y_train)\n",
        "y_predict = model.predict(x_test)"
      ],
      "execution_count": 0,
      "outputs": []
    },
    {
      "cell_type": "code",
      "metadata": {
        "id": "-mCy8HLOfEnm",
        "colab_type": "code",
        "outputId": "07820472-7341-4d77-8447-411524c39d3c",
        "colab": {
          "base_uri": "https://localhost:8080/",
          "height": 51
        }
      },
      "source": [
        "from sklearn.metrics import confusion_matrix\n",
        "\n",
        "cm = confusion_matrix(y_predict, y_test)\n",
        "\n",
        "cm"
      ],
      "execution_count": 0,
      "outputs": [
        {
          "output_type": "execute_result",
          "data": {
            "text/plain": [
              "array([[30,  6],\n",
              "       [ 5, 18]])"
            ]
          },
          "metadata": {
            "tags": []
          },
          "execution_count": 183
        }
      ]
    },
    {
      "cell_type": "code",
      "metadata": {
        "id": "Gho6b1As30NS",
        "colab_type": "code",
        "outputId": "b7f7e05d-deea-46c8-ba98-29a702aa4202",
        "colab": {
          "base_uri": "https://localhost:8080/",
          "height": 204
        }
      },
      "source": [
        "acc = (cm[0][0]+cm[1][1])/(cm.sum().sum())\n",
        "prec = (cm[1][1])/(cm[1][0]+cm[1][1])\n",
        "rec = (cm[1][1])/(cm[0][1]+cm[1][1])\n",
        "f1 = 2*prec*rec/(prec+rec)\n",
        "f2 = 5*prec*rec/(4*prec+rec)\n",
        "\n",
        "metrics = pd.DataFrame({\"Metric\": [\"f1\", \"f2\", \"precision\", \"recall\", \"accuracy\"], \"Score\": [f1, f2, prec, rec, acc]})\n",
        "metrics"
      ],
      "execution_count": 0,
      "outputs": [
        {
          "output_type": "execute_result",
          "data": {
            "text/html": [
              "<div>\n",
              "<style scoped>\n",
              "    .dataframe tbody tr th:only-of-type {\n",
              "        vertical-align: middle;\n",
              "    }\n",
              "\n",
              "    .dataframe tbody tr th {\n",
              "        vertical-align: top;\n",
              "    }\n",
              "\n",
              "    .dataframe thead th {\n",
              "        text-align: right;\n",
              "    }\n",
              "</style>\n",
              "<table border=\"1\" class=\"dataframe\">\n",
              "  <thead>\n",
              "    <tr style=\"text-align: right;\">\n",
              "      <th></th>\n",
              "      <th>Metric</th>\n",
              "      <th>Score</th>\n",
              "    </tr>\n",
              "  </thead>\n",
              "  <tbody>\n",
              "    <tr>\n",
              "      <th>0</th>\n",
              "      <td>f1</td>\n",
              "      <td>0.765957</td>\n",
              "    </tr>\n",
              "    <tr>\n",
              "      <th>1</th>\n",
              "      <td>f2</td>\n",
              "      <td>0.756303</td>\n",
              "    </tr>\n",
              "    <tr>\n",
              "      <th>2</th>\n",
              "      <td>precision</td>\n",
              "      <td>0.782609</td>\n",
              "    </tr>\n",
              "    <tr>\n",
              "      <th>3</th>\n",
              "      <td>recall</td>\n",
              "      <td>0.750000</td>\n",
              "    </tr>\n",
              "    <tr>\n",
              "      <th>4</th>\n",
              "      <td>accuracy</td>\n",
              "      <td>0.813559</td>\n",
              "    </tr>\n",
              "  </tbody>\n",
              "</table>\n",
              "</div>"
            ],
            "text/plain": [
              "      Metric     Score\n",
              "0         f1  0.765957\n",
              "1         f2  0.756303\n",
              "2  precision  0.782609\n",
              "3     recall  0.750000\n",
              "4   accuracy  0.813559"
            ]
          },
          "metadata": {
            "tags": []
          },
          "execution_count": 184
        }
      ]
    }
  ]
}
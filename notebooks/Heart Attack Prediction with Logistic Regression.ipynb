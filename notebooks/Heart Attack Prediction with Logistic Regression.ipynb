{
  "nbformat": 4,
  "nbformat_minor": 0,
  "metadata": {
    "colab": {
      "name": "Heart Attack Prediction with Logistic Regression",
      "version": "0.3.2",
      "provenance": [],
      "collapsed_sections": []
    },
    "kernelspec": {
      "name": "python3",
      "display_name": "Python 3"
    }
  },
  "cells": [
    {
      "cell_type": "markdown",
      "metadata": {
        "id": "Uob_bvVvHGUr",
        "colab_type": "text"
      },
      "source": [
        "## Ways to make it better:\n",
        "\n",
        "\n",
        "\n",
        "*   One-hot Encoding\n",
        "*   Better Model\n",
        "\n",
        "\n",
        "\n"
      ]
    },
    {
      "cell_type": "code",
      "metadata": {
        "id": "HwoRjAIhGKqF",
        "colab_type": "code",
        "outputId": "853ccd25-6a3e-407d-f66a-8578276a1773",
        "colab": {
          "base_uri": "https://localhost:8080/",
          "height": 51
        }
      },
      "source": [
        "import os\n",
        "\n",
        "if not os.path.exists(\"heart-attack-prediction.csv\"):\n",
        "    !rm -rf sample_data\n",
        "    from google.colab import files\n",
        "    files.upload()\n",
        "    !xz -d *.xz\n",
        "    print(\"Uploaded files:\")\n",
        "    !ls\n",
        "else:\n",
        "    print(\"Already have files:\")\n",
        "    !ls"
      ],
      "execution_count": 0,
      "outputs": [
        {
          "output_type": "stream",
          "text": [
            "Already have files:\n",
            "heart-attack-prediction.csv\n"
          ],
          "name": "stdout"
        }
      ]
    },
    {
      "cell_type": "code",
      "metadata": {
        "id": "vntfJifF9Dq4",
        "colab_type": "code",
        "outputId": "b2155dd1-5e59-4954-e3ab-08a5d4655970",
        "colab": {
          "base_uri": "https://localhost:8080/",
          "height": 88
        }
      },
      "source": [
        "import numpy as np\n",
        "import pandas as pd\n",
        "\n",
        "dataset = pd.read_csv(\"heart-attack-prediction.csv\")\n",
        "\n",
        "# converting all string values to nan\n",
        "dataset = dataset.convert_objects(convert_numeric=True)\n",
        "\n",
        "x = dataset.iloc[:, :-1].values\n",
        "y = dataset.iloc[:, 13].values"
      ],
      "execution_count": 0,
      "outputs": [
        {
          "output_type": "stream",
          "text": [
            "/usr/local/lib/python3.6/dist-packages/ipykernel_launcher.py:7: FutureWarning: convert_objects is deprecated.  To re-infer data dtypes for object columns, use DataFrame.infer_objects()\n",
            "For all other conversions use the data-type specific converters pd.to_datetime, pd.to_timedelta and pd.to_numeric.\n",
            "  import sys\n"
          ],
          "name": "stderr"
        }
      ]
    },
    {
      "cell_type": "code",
      "metadata": {
        "id": "5jh53UI6ct0K",
        "colab_type": "code",
        "outputId": "c3115f2e-d8b5-4cdd-c179-5c37bdc94001",
        "colab": {
          "base_uri": "https://localhost:8080/",
          "height": 71
        }
      },
      "source": [
        "from sklearn.preprocessing import Imputer\n",
        "imputer = Imputer(missing_values = \"NaN\", strategy =\"mean\", axis = 0)\n",
        "imputer = imputer.fit(x[:,0:13])   \n",
        "x[:, 0:13] = imputer.transform(x[:, 0:13])"
      ],
      "execution_count": 0,
      "outputs": [
        {
          "output_type": "stream",
          "text": [
            "/usr/local/lib/python3.6/dist-packages/sklearn/utils/deprecation.py:66: DeprecationWarning: Class Imputer is deprecated; Imputer was deprecated in version 0.20 and will be removed in 0.22. Import impute.SimpleImputer from sklearn instead.\n",
            "  warnings.warn(msg, category=DeprecationWarning)\n"
          ],
          "name": "stderr"
        }
      ]
    },
    {
      "cell_type": "code",
      "metadata": {
        "id": "Pm-Iyp7dct7L",
        "colab_type": "code",
        "colab": {}
      },
      "source": [
        "from sklearn.preprocessing import StandardScaler\n",
        "sc_X = StandardScaler()\n",
        "x = sc_X.fit_transform(x)"
      ],
      "execution_count": 0,
      "outputs": []
    },
    {
      "cell_type": "code",
      "metadata": {
        "id": "BNnruOUhcuAc",
        "colab_type": "code",
        "colab": {}
      },
      "source": [
        "from sklearn.model_selection import train_test_split\n",
        "x_train,x_test,y_train,y_test = train_test_split(x , y , test_size=0.2)"
      ],
      "execution_count": 0,
      "outputs": []
    },
    {
      "cell_type": "code",
      "metadata": {
        "id": "DuQa-uumcuFU",
        "colab_type": "code",
        "outputId": "9b6b64ea-6e0c-4e9f-c62a-03a9ad8efbad",
        "colab": {
          "base_uri": "https://localhost:8080/",
          "height": 156
        }
      },
      "source": [
        "from sklearn.linear_model import LogisticRegression\n",
        "result = LogisticRegression(random_state = 0)\n",
        "result.fit(x_train,y_train)"
      ],
      "execution_count": 0,
      "outputs": [
        {
          "output_type": "stream",
          "text": [
            "/usr/local/lib/python3.6/dist-packages/sklearn/linear_model/logistic.py:432: FutureWarning: Default solver will be changed to 'lbfgs' in 0.22. Specify a solver to silence this warning.\n",
            "  FutureWarning)\n"
          ],
          "name": "stderr"
        },
        {
          "output_type": "execute_result",
          "data": {
            "text/plain": [
              "LogisticRegression(C=1.0, class_weight=None, dual=False, fit_intercept=True,\n",
              "                   intercept_scaling=1, l1_ratio=None, max_iter=100,\n",
              "                   multi_class='warn', n_jobs=None, penalty='l2',\n",
              "                   random_state=0, solver='warn', tol=0.0001, verbose=0,\n",
              "                   warm_start=False)"
            ]
          },
          "metadata": {
            "tags": []
          },
          "execution_count": 276
        }
      ]
    },
    {
      "cell_type": "code",
      "metadata": {
        "id": "vRuk16hYc5fl",
        "colab_type": "code",
        "colab": {}
      },
      "source": [
        "y_predict = result.predict(x_test)\n",
        "from sklearn.metrics import confusion_matrix\n",
        "cm = confusion_matrix(y_predict, y_test)"
      ],
      "execution_count": 0,
      "outputs": []
    },
    {
      "cell_type": "code",
      "metadata": {
        "id": "7BX4WUJYG0Bg",
        "colab_type": "code",
        "outputId": "ca570941-205b-49aa-ba23-6f1c2a8abe43",
        "colab": {
          "base_uri": "https://localhost:8080/",
          "height": 204
        }
      },
      "source": [
        "# Results\n",
        "print (\"Weights:\")\n",
        "print(list(result.coef_*np.std(x, 0)))\n",
        "print(dataset.columns)\n",
        "print(\"\\nConfusion Matrix:\")\n",
        "print(cm)"
      ],
      "execution_count": 0,
      "outputs": [
        {
          "output_type": "stream",
          "text": [
            "Weights:\n",
            "[array([ 0.15261953,  0.66499465,  0.65057494, -0.27264159,  0.42547548,\n",
            "        0.18863831,  0.01771307,  0.07585758,  0.4682554 ,  1.01653247,\n",
            "        1.01440192,  0.        ,  0.61507881])]\n",
            "Index(['age', 'sex', 'cp', 'trestbps', 'chol', 'fbs', 'restecg', 'thalach',\n",
            "       'exang', 'oldpeak', 'slope', 'ca', 'thal', 'num'],\n",
            "      dtype='object')\n",
            "\n",
            "Confusion Matrix:\n",
            "[[36  3]\n",
            " [ 2 18]]\n"
          ],
          "name": "stdout"
        }
      ]
    },
    {
      "cell_type": "code",
      "metadata": {
        "id": "fYt-kx2tqx9g",
        "colab_type": "code",
        "outputId": "63b88821-4258-465f-af71-cc8cda43467f",
        "colab": {
          "base_uri": "https://localhost:8080/",
          "height": 204
        }
      },
      "source": [
        "acc = (cm[0][0]+cm[1][1])/(cm.sum().sum())\n",
        "prec = (cm[1][1])/(cm[1][0]+cm[1][1])\n",
        "rec = (cm[1][1])/(cm[0][1]+cm[1][1])\n",
        "f1 = 2*prec*rec/(prec+rec)\n",
        "f2 = 5*prec*rec/(4*prec+rec)\n",
        "\n",
        "metrics = pd.DataFrame({\"Metric\": [\"f1\", \"f2\", \"precision\", \"recall\", \"accuracy\"], \"Score\": [f1, f2, prec, rec, acc]})\n",
        "metrics"
      ],
      "execution_count": 0,
      "outputs": [
        {
          "output_type": "execute_result",
          "data": {
            "text/html": [
              "<div>\n",
              "<style scoped>\n",
              "    .dataframe tbody tr th:only-of-type {\n",
              "        vertical-align: middle;\n",
              "    }\n",
              "\n",
              "    .dataframe tbody tr th {\n",
              "        vertical-align: top;\n",
              "    }\n",
              "\n",
              "    .dataframe thead th {\n",
              "        text-align: right;\n",
              "    }\n",
              "</style>\n",
              "<table border=\"1\" class=\"dataframe\">\n",
              "  <thead>\n",
              "    <tr style=\"text-align: right;\">\n",
              "      <th></th>\n",
              "      <th>Metric</th>\n",
              "      <th>Score</th>\n",
              "    </tr>\n",
              "  </thead>\n",
              "  <tbody>\n",
              "    <tr>\n",
              "      <th>0</th>\n",
              "      <td>f1</td>\n",
              "      <td>0.878049</td>\n",
              "    </tr>\n",
              "    <tr>\n",
              "      <th>1</th>\n",
              "      <td>f2</td>\n",
              "      <td>0.865385</td>\n",
              "    </tr>\n",
              "    <tr>\n",
              "      <th>2</th>\n",
              "      <td>precision</td>\n",
              "      <td>0.900000</td>\n",
              "    </tr>\n",
              "    <tr>\n",
              "      <th>3</th>\n",
              "      <td>recall</td>\n",
              "      <td>0.857143</td>\n",
              "    </tr>\n",
              "    <tr>\n",
              "      <th>4</th>\n",
              "      <td>accuracy</td>\n",
              "      <td>0.915254</td>\n",
              "    </tr>\n",
              "  </tbody>\n",
              "</table>\n",
              "</div>"
            ],
            "text/plain": [
              "      Metric     Score\n",
              "0         f1  0.878049\n",
              "1         f2  0.865385\n",
              "2  precision  0.900000\n",
              "3     recall  0.857143\n",
              "4   accuracy  0.915254"
            ]
          },
          "metadata": {
            "tags": []
          },
          "execution_count": 279
        }
      ]
    }
  ]
}
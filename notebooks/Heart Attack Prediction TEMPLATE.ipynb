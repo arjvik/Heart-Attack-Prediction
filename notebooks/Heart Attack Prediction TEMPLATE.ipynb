{
  "nbformat": 4,
  "nbformat_minor": 0,
  "metadata": {
    "colab": {
      "name": "Heart Attack Prediction",
      "version": "0.3.2",
      "provenance": [],
      "collapsed_sections": []
    },
    "kernelspec": {
      "name": "python3",
      "display_name": "Python 3"
    }
  },
  "cells": [
    {
      "cell_type": "code",
      "metadata": {
        "id": "zq0Ne6_APE53",
        "colab_type": "code",
        "colab": {}
      },
      "source": [
        "import os\n",
        "\n",
        "if not os.path.exists(\"heart-attack-prediction.csv\"):\n",
        "    !rm -rf sample_data\n",
        "    from google.colab import files\n",
        "    files.upload()\n",
        "    !xz -d *.xz\n",
        "    print(\"Uploaded files:\")\n",
        "    !ls\n",
        "else:\n",
        "    print(\"Already have files:\")\n",
        "    !ls"
      ],
      "execution_count": 0,
      "outputs": []
    },
    {
      "cell_type": "code",
      "metadata": {
        "id": "FMmDn02gRhKB",
        "colab_type": "code",
        "colab": {}
      },
      "source": [
        "# Prepare dataframe\n",
        "import pandas as pd\n",
        "import numpy as np\n",
        "\n",
        "df = (pd.read_csv(\"heart-attack-prediction.csv\", na_values=\"?\")\n",
        "#         .replace(\"?\", np.nan) # change ? to nan\n",
        "        \n",
        "        .drop([\"ca\", \"thal\", \"slope\"], axis=1)) # drop columns w/ too many nulls\n",
        "\n",
        "df[\"restecg\"] = df[\"restecg\"].astype(pd.Int64Dtype())\n",
        "\n",
        "# Encode feature cp using one-hot encoding\n",
        "df = pd.concat([df, pd.get_dummies(df[\"cp\"], prefix=\"cp\", drop_first=True)], axis=1) # Don't drop first if using SVM\n",
        "df = pd.concat([df, pd.get_dummies(df[\"restecg\"], prefix=\"restecg\", drop_first=True)], axis=1)\n",
        "\n",
        "\n",
        "# Reorder and drop columns\n",
        "df = df[[\"age\", \"sex\", \"cp_2\", \"cp_3\", \"cp_4\", \"trestbps\", \"chol\", \"fbs\", \"restecg_1\", \"restecg_2\", \"thalach\", \"exang\", \"oldpeak\", \"num\"]]\n",
        "\n",
        "df.info()"
      ],
      "execution_count": 0,
      "outputs": []
    },
    {
      "cell_type": "code",
      "metadata": {
        "id": "Dw8AH1jPpKpu",
        "colab_type": "code",
        "colab": {}
      },
      "source": [
        "from sklearn.impute import SimpleImputer\n",
        "\n",
        "imputer = SimpleImputer(strategy=\"mean\")\n",
        "\n",
        "imputer.fit(df)\n",
        "\n",
        "df = pd.DataFrame(imputer.transform(df), columns = df.columns)\n",
        "\n",
        "df.head()"
      ],
      "execution_count": 0,
      "outputs": []
    },
    {
      "cell_type": "code",
      "metadata": {
        "id": "g1d9UlJuqjIg",
        "colab_type": "code",
        "colab": {}
      },
      "source": [
        "from sklearn.model_selection import train_test_split\n",
        "\n",
        "x = df.drop(\"num\", axis=1)\n",
        "y = df[\"num\"]\n",
        "\n",
        "\n",
        "x_train, x_test, y_train, y_test = train_test_split(x, y, test_size=0.2)\n",
        "\n",
        "print(len(x_train), 'train examples')\n",
        "print(len(x_test), 'test examples')"
      ],
      "execution_count": 0,
      "outputs": []
    },
    {
      "cell_type": "code",
      "metadata": {
        "id": "WmFIttELBBcu",
        "colab_type": "code",
        "colab": {}
      },
      "source": [
        "# Classifier code here"
      ],
      "execution_count": 0,
      "outputs": []
    },
    {
      "cell_type": "code",
      "metadata": {
        "id": "XWKtvHSwBBnX",
        "colab_type": "code",
        "colab": {}
      },
      "source": [
        "from sklearn.metrics import confusion_matrix\n",
        "\n",
        "cm = confusion_matrix(y_predict, y_test)\n",
        "\n",
        "cm"
      ],
      "execution_count": 0,
      "outputs": []
    },
    {
      "cell_type": "code",
      "metadata": {
        "id": "u5tqRzqCBCwh",
        "colab_type": "code",
        "colab": {}
      },
      "source": [
        "acc = (cm[0][0]+cm[1][1])/(cm.sum().sum())\n",
        "prec = (cm[1][1])/(cm[1][0]+cm[1][1])\n",
        "rec = (cm[1][1])/(cm[0][1]+cm[1][1])\n",
        "f1 = 2*prec*rec/(prec+rec)\n",
        "f2 = 5*prec*rec/(4*prec+rec)\n",
        "\n",
        "metrics = pd.DataFrame({\"Metric\": [\"f1\", \"f2\", \"precision\", \"recall\", \"accuracy\"], \"Score\": [f1, f2, prec, rec, acc]})\n",
        "metrics"
      ],
      "execution_count": 0,
      "outputs": []
    }
  ]
}